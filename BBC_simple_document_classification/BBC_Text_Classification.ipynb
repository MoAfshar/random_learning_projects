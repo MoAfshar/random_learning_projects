{
  "nbformat": 4,
  "nbformat_minor": 0,
  "metadata": {
    "colab": {
      "name": "BBC_Text_Classification.ipynb",
      "provenance": [],
      "collapsed_sections": []
    },
    "kernelspec": {
      "name": "python3",
      "display_name": "Python 3"
    }
  },
  "cells": [
    {
      "cell_type": "code",
      "metadata": {
        "id": "mYQe9b3oH5qP",
        "colab_type": "code",
        "colab": {}
      },
      "source": [
        "import numpy as np\n",
        "import pandas as pd \n",
        "import seaborn as sns\n",
        "import matplotlib.pyplot as plt\n",
        "from sklearn.preprocessing import LabelEncoder  \n",
        "from sklearn.model_selection import train_test_split\n",
        "from sklearn.feature_extraction.text import TfidfVectorizer\n",
        "from sklearn.feature_extraction.text import CountVectorizer\n",
        "from sklearn.naive_bayes import MultinomialNB\n",
        "from sklearn.metrics import accuracy_score, precision_score, recall_score\n",
        "from sklearn.metrics import confusion_matrix"
      ],
      "execution_count": 0,
      "outputs": []
    },
    {
      "cell_type": "code",
      "metadata": {
        "id": "Ly01Avn7IOIx",
        "colab_type": "code",
        "colab": {}
      },
      "source": [
        "################################################# Data Prep #################################################\n",
        "df = pd.read_csv('bbc-text.csv')\n",
        "## Swap the columns order for clarity \n",
        "cols = list(df)\n",
        "## Move last element to first element\n",
        "cols = cols[-1:] + cols[:-1]\n",
        "df = df[cols]\n",
        "## Numeric categorisation for each label \n",
        "le = LabelEncoder()\n",
        "df['label'] = le.fit_transform(df['category'])\n",
        "print(df[['category', 'label']])"
      ],
      "execution_count": 0,
      "outputs": []
    },
    {
      "cell_type": "code",
      "metadata": {
        "id": "XzgjFJeFQfPq",
        "colab_type": "code",
        "colab": {}
      },
      "source": [
        "################################################# Training #################################################\n",
        "## Transform each article's text to a feature vector using Count Vectorizer, TFIDF is another approach \n",
        "X_train, X_test, y_train, y_test = train_test_split(df['text'], df['label'])\n",
        "cv = CountVectorizer(strip_accents='ascii', lowercase=True, stop_words='english')\n",
        "X_train_cv = cv.fit_transform(X_train)\n",
        "X_test_cv = cv.transform(X_test)\n",
        "\n",
        "## Look at the top word counts \n",
        "word_freq_df = pd.DataFrame(X_train_cv.toarray(), columns=cv.get_feature_names())\n",
        "top_words_df = pd.DataFrame(word_freq_df.sum()).sort_values(0, ascending=False)\n",
        "\n",
        "## Start up the naive bae\n",
        "naive_bayes = MultinomialNB()\n",
        "naive_bayes.fit(X_train_cv, y_train)\n",
        "predictions = naive_bayes.predict(X_test_cv)\n",
        "\n",
        "print('Accuracy Score: {}'.format(accuracy_score(y_test, predictions)))\n",
        "print('Precision score: {}'.format(precision_score(y_test, predictions, average='weighted')))\n",
        "print('Recall score: {}'.format(recall_score(y_test, predictions, average='weighted')))\n",
        "#print(predictions)"
      ],
      "execution_count": 0,
      "outputs": []
    },
    {
      "cell_type": "code",
      "metadata": {
        "id": "gaD66RVkhVHU",
        "colab_type": "code",
        "colab": {}
      },
      "source": [
        "testing_pred = []\n",
        "for i in range(len(X_test)): \n",
        "  if predictions[i] == 0: \n",
        "    testing_pred.append('Business')\n",
        "  elif predictions[i] == 1: \n",
        "    testing_pred.append('Entertainment')\n",
        "  elif predictions[i] == 2: \n",
        "    testing_pred.append('Politics')\n",
        "  elif predictions[i] == 3: \n",
        "    testing_pred.append('Sport')\n",
        "  else: \n",
        "    testing_pred.append('Tech')\n",
        "\n",
        "check = pd.DataFrame({'actual_label': list(y_test), 'predictions': testing_pred, 'text': list(X_test)})\n",
        "check.replace(to_replace=0, value='Business', inplace=True)\n",
        "check.replace(to_replace=1, value='Entertainment', inplace=True)\n",
        "check.replace(to_replace=2, value='Politics', inplace=True)\n",
        "check.replace(to_replace=3, value='Sport', inplace=True)\n",
        "check.replace(to_replace=4, value='Tech', inplace=True)\n",
        "check['wrong_preds'] = np.where(check['actual_label'] != check['predictions'], 1, 0)\n",
        "check.loc[check['wrong_preds'] == 1]"
      ],
      "execution_count": 0,
      "outputs": []
    }
  ]
}